{
 "cells": [
  {
   "cell_type": "code",
   "execution_count": 1,
   "metadata": {},
   "outputs": [
    {
     "name": "stderr",
     "output_type": "stream",
     "text": [
      "2021-11-30 12:29:33.233919: W tensorflow/stream_executor/platform/default/dso_loader.cc:64] Could not load dynamic library 'libcudart.so.11.0'; dlerror: libcudart.so.11.0: cannot open shared object file: No such file or directory; LD_LIBRARY_PATH: /usr/local/lib/nuitrack\n",
      "2021-11-30 12:29:33.233936: I tensorflow/stream_executor/cuda/cudart_stub.cc:29] Ignore above cudart dlerror if you do not have a GPU set up on your machine.\n"
     ]
    }
   ],
   "source": [
    "!pip install -q gpt-2-simple\n",
    "import gpt_2_simple as gpt2\n",
    "from datetime import datetime\n",
    "#from google.colab import files"
   ]
  },
  {
   "cell_type": "code",
   "execution_count": 2,
   "metadata": {},
   "outputs": [
    {
     "name": "stdout",
     "output_type": "stream",
     "text": [
      "Tue Nov 30 12:29:40 2021       \n",
      "+-----------------------------------------------------------------------------+\n",
      "| NVIDIA-SMI 460.91.03    Driver Version: 460.91.03    CUDA Version: 11.2     |\n",
      "|-------------------------------+----------------------+----------------------+\n",
      "| GPU  Name        Persistence-M| Bus-Id        Disp.A | Volatile Uncorr. ECC |\n",
      "| Fan  Temp  Perf  Pwr:Usage/Cap|         Memory-Usage | GPU-Util  Compute M. |\n",
      "|                               |                      |               MIG M. |\n",
      "|===============================+======================+======================|\n",
      "|   0  GeForce GTX 105...  Off  | 00000000:01:00.0 Off |                  N/A |\n",
      "| N/A   64C    P8    N/A /  N/A |      5MiB /  4042MiB |      0%      Default |\n",
      "|                               |                      |                  N/A |\n",
      "+-------------------------------+----------------------+----------------------+\n",
      "                                                                               \n",
      "+-----------------------------------------------------------------------------+\n",
      "| Processes:                                                                  |\n",
      "|  GPU   GI   CI        PID   Type   Process name                  GPU Memory |\n",
      "|        ID   ID                                                   Usage      |\n",
      "|=============================================================================|\n",
      "|    0   N/A  N/A      2537      G   /usr/lib/xorg/Xorg                  4MiB |\n",
      "+-----------------------------------------------------------------------------+\n"
     ]
    }
   ],
   "source": [
    "!nvidia-smi"
   ]
  },
  {
   "cell_type": "code",
   "execution_count": 3,
   "metadata": {},
   "outputs": [
    {
     "name": "stderr",
     "output_type": "stream",
     "text": [
      "Fetching checkpoint: 1.05Mit [00:00, 497Mit/s]                                                      \n",
      "Fetching encoder.json: 1.05Mit [00:00, 1.14Mit/s]\n",
      "Fetching hparams.json: 1.05Mit [00:00, 529Mit/s]                                                    \n",
      "Fetching model.ckpt.data-00000-of-00001: 498Mit [02:20, 3.55Mit/s]\n",
      "Fetching model.ckpt.index: 1.05Mit [00:00, 247Mit/s]                                                \n",
      "Fetching model.ckpt.meta: 1.05Mit [00:00, 1.60Mit/s]\n",
      "Fetching vocab.bpe: 1.05Mit [00:00, 1.61Mit/s]\n"
     ]
    }
   ],
   "source": [
    "gpt2.download_gpt2(model_name=\"124M\")"
   ]
  },
  {
   "cell_type": "code",
   "execution_count": 4,
   "metadata": {},
   "outputs": [],
   "source": [
    "file_name = \"tiny-shakespeare.txt\""
   ]
  },
  {
   "cell_type": "code",
   "execution_count": 5,
   "metadata": {},
   "outputs": [
    {
     "name": "stderr",
     "output_type": "stream",
     "text": [
      "2021-11-30 12:32:16.710719: I tensorflow/core/platform/cpu_feature_guard.cc:151] This TensorFlow binary is optimized with oneAPI Deep Neural Network Library (oneDNN) to use the following CPU instructions in performance-critical operations:  AVX2 FMA\n",
      "To enable them in other operations, rebuild TensorFlow with the appropriate compiler flags.\n",
      "2021-11-30 12:32:16.743197: I tensorflow/stream_executor/cuda/cuda_gpu_executor.cc:939] successful NUMA node read from SysFS had negative value (-1), but there must be at least one NUMA node, so returning NUMA node zero\n",
      "2021-11-30 12:32:16.743817: W tensorflow/stream_executor/platform/default/dso_loader.cc:64] Could not load dynamic library 'libcudart.so.11.0'; dlerror: libcudart.so.11.0: cannot open shared object file: No such file or directory; LD_LIBRARY_PATH: /usr/local/lib/nuitrack\n",
      "2021-11-30 12:32:16.743886: W tensorflow/stream_executor/platform/default/dso_loader.cc:64] Could not load dynamic library 'libcublas.so.11'; dlerror: libcublas.so.11: cannot open shared object file: No such file or directory; LD_LIBRARY_PATH: /usr/local/lib/nuitrack\n",
      "2021-11-30 12:32:16.743939: W tensorflow/stream_executor/platform/default/dso_loader.cc:64] Could not load dynamic library 'libcublasLt.so.11'; dlerror: libcublasLt.so.11: cannot open shared object file: No such file or directory; LD_LIBRARY_PATH: /usr/local/lib/nuitrack\n",
      "2021-11-30 12:32:16.744000: W tensorflow/stream_executor/platform/default/dso_loader.cc:64] Could not load dynamic library 'libcufft.so.10'; dlerror: libcufft.so.10: cannot open shared object file: No such file or directory; LD_LIBRARY_PATH: /usr/local/lib/nuitrack\n",
      "2021-11-30 12:32:16.744053: W tensorflow/stream_executor/platform/default/dso_loader.cc:64] Could not load dynamic library 'libcurand.so.10'; dlerror: libcurand.so.10: cannot open shared object file: No such file or directory; LD_LIBRARY_PATH: /usr/local/lib/nuitrack\n",
      "2021-11-30 12:32:16.744105: W tensorflow/stream_executor/platform/default/dso_loader.cc:64] Could not load dynamic library 'libcusolver.so.11'; dlerror: libcusolver.so.11: cannot open shared object file: No such file or directory; LD_LIBRARY_PATH: /usr/local/lib/nuitrack\n",
      "2021-11-30 12:32:16.744162: W tensorflow/stream_executor/platform/default/dso_loader.cc:64] Could not load dynamic library 'libcusparse.so.11'; dlerror: libcusparse.so.11: cannot open shared object file: No such file or directory; LD_LIBRARY_PATH: /usr/local/lib/nuitrack\n",
      "2021-11-30 12:32:16.744214: W tensorflow/stream_executor/platform/default/dso_loader.cc:64] Could not load dynamic library 'libcudnn.so.8'; dlerror: libcudnn.so.8: cannot open shared object file: No such file or directory; LD_LIBRARY_PATH: /usr/local/lib/nuitrack\n",
      "2021-11-30 12:32:16.744225: W tensorflow/core/common_runtime/gpu/gpu_device.cc:1850] Cannot dlopen some GPU libraries. Please make sure the missing libraries mentioned above are installed properly if you would like to use GPU. Follow the guide at https://www.tensorflow.org/install/gpu for how to download and setup the required libraries for your platform.\n",
      "Skipping registering GPU devices...\n",
      "2021-11-30 12:32:19.788627: I tensorflow/stream_executor/cuda/cuda_gpu_executor.cc:939] successful NUMA node read from SysFS had negative value (-1), but there must be at least one NUMA node, so returning NUMA node zero\n",
      "2021-11-30 12:32:19.788851: W tensorflow/core/common_runtime/gpu/gpu_device.cc:1850] Cannot dlopen some GPU libraries. Please make sure the missing libraries mentioned above are installed properly if you would like to use GPU. Follow the guide at https://www.tensorflow.org/install/gpu for how to download and setup the required libraries for your platform.\n",
      "Skipping registering GPU devices...\n"
     ]
    },
    {
     "name": "stdout",
     "output_type": "stream",
     "text": [
      "Loading checkpoint models/124M/model.ckpt\n",
      "INFO:tensorflow:Restoring parameters from models/124M/model.ckpt\n",
      "Loading dataset...\n"
     ]
    },
    {
     "name": "stderr",
     "output_type": "stream",
     "text": [
      "100%|██████████| 1/1 [00:01<00:00,  1.21s/it]\n"
     ]
    },
    {
     "name": "stdout",
     "output_type": "stream",
     "text": [
      "dataset has 338025 tokens\n",
      "Training...\n",
      "[10 | 227.20] loss=3.55 avg=3.55\n",
      "[20 | 450.30] loss=3.45 avg=3.50\n",
      "[30 | 672.86] loss=3.64 avg=3.55\n",
      "[40 | 895.78] loss=3.43 avg=3.52\n",
      "[50 | 1118.49] loss=3.29 avg=3.47\n",
      "[60 | 1340.79] loss=3.39 avg=3.46\n",
      "[70 | 1563.52] loss=3.23 avg=3.42\n",
      "[80 | 1787.75] loss=3.31 avg=3.41\n",
      "[90 | 2009.66] loss=3.38 avg=3.41\n",
      "[100 | 2231.44] loss=3.25 avg=3.39\n",
      "Saving checkpoint/run1/model-100\n"
     ]
    }
   ],
   "source": [
    "sess = gpt2.start_tf_sess()\n",
    "\n",
    "gpt2.finetune(sess,\n",
    "              dataset=file_name,\n",
    "              model_name='124M',\n",
    "              steps=100,#1000\n",
    "              restore_from='fresh',\n",
    "              run_name='run1',\n",
    "              print_every=10,\n",
    "              sample_every=100,#200\n",
    "              save_every=100#500\n",
    "              )"
   ]
  },
  {
   "cell_type": "code",
   "execution_count": 9,
   "metadata": {},
   "outputs": [
    {
     "name": "stdout",
     "output_type": "stream",
     "text": [
      "Laws, or more than personal inclination;\n",
      "And what is not a law, but heaven,\n",
      "Finds a man a man of law:\n",
      "But what is not a law, but heaven,\n",
      "A man, an officer, and a man,\n",
      "He finds a man a man; and he finds\n",
      "him a man of law.\n",
      "\n",
      "PETRUCHIO:\n",
      "If you have no law, and you have no duty,\n",
      "To do your duty with the law,\n",
      "And do not come to any benefit,\n",
      "You shall not be armed.\n",
      "\n",
      "WARWICK:\n",
      "Well, then, he which can do\n",
      "Advances, which may do no harm,\n",
      "Is well armed; and if he have\n",
      "any duty, he finds it; and if he have\n",
      "any duty, he acquires it, and if he\n",
      "have any duty, it acquires it.\n",
      "\n",
      "WARWICK:\n",
      "But, your duty, which was the first,\n",
      "Is no more; and therefore your duty is no\n",
      "further.\n",
      "\n",
      "PETRUCHIO:\n",
      "You are a traitor to this country;\n",
      "Who, I must say, is a traitor to\n",
      "This country, and, by the power of the\n",
      "Noble King, to the people; and yet,\n",
      "You have been a traitor to the people.\n",
      "\n",
      "WARWICK:\n",
      "If you were a traitor,\n",
      "Your duty was the duty created for you,\n",
      "Which, being a traitor, you have done\n",
      "To the people.\n",
      "\n",
      "PETRUCHIO:\n",
      "Your duty was the duty given you,\n",
      "Which is no more.\n",
      "\n",
      "WARWICK:\n",
      "\n",
      "PETRUCHIO:\n",
      "If you were a traitor,\n",
      "Your duty was the duty created for you,\n",
      "Which, being a traitor, you have done\n",
      "To the people.\n",
      "\n",
      "WARWICK:\n",
      "\n",
      "PETRUCHIO:\n",
      "If you were a man,\n",
      "Your duty was the duty created for you,\n",
      "Which, being a man, you have done\n",
      "To the people.\n",
      "\n",
      "WARWICK:\n",
      "\n",
      "PETRUCHIO:\n",
      "If you were a man,\n",
      "Your duty was the duty created for you,\n",
      "Which, being a man, you have done\n",
      "To the people.\n",
      "\n",
      "WARWICK:\n",
      "\n",
      "PETRUCHIO:\n",
      "If you were a man,\n",
      "Your duty was the duty created for you,\n",
      "Which, being a man, you have done\n",
      "To the people.\n",
      "\n",
      "WARWICK:\n",
      "\n",
      "PETRUCHIO:\n",
      "If you were a man,\n",
      "Your duty was the duty created for you,\n",
      "Which, being a man, you have done\n",
      "To the people.\n",
      "\n",
      "WARWICK:\n",
      "\n",
      "PETRUCHIO:\n",
      "If you were a man,\n",
      "Your duty was the duty created for you,\n",
      "Which, being a man, you have done\n",
      "To the people.\n",
      "\n",
      "WARWICK:\n",
      "\n",
      "PETRUCHIO:\n",
      "If you were a man,\n",
      "Your duty was the duty created for you,\n",
      "Which, being a man, you have done\n",
      "To the people.\n",
      "\n",
      "WARWICK:\n",
      "\n",
      "PETRUCHIO:\n",
      "If you were a man,\n",
      "Your duty was the duty created for you,\n",
      "Which, being a man, you have done\n",
      "To the people.\n",
      "\n",
      "WARWICK:\n",
      "\n",
      "PETRUCHIO:\n",
      "If you were a man,\n",
      "Your duty was the duty created for you,\n",
      "Which, being a man, you have done\n",
      "To the people.\n",
      "\n",
      "WARWICK:\n",
      "\n",
      "PETRUCHIO:\n",
      "If you were a man,\n",
      "Your duty was the duty created for you,\n",
      "Which, being a man, you have done\n",
      "To the people.\n",
      "\n",
      "WARWICK:\n",
      "\n",
      "PETRUCHIO:\n",
      "If you were a man,\n",
      "Your duty was the duty created for you,\n",
      "Which, being a man, you have done\n",
      "To the people.\n",
      "\n",
      "WARWICK:\n",
      "\n",
      "PETRUCHIO:\n",
      "If you were a man,\n",
      "Your duty was the duty created for you,\n",
      "Which, being a man, you have done\n",
      "To the people.\n",
      "\n",
      "WARWICK:\n",
      "\n",
      "PETRUCHIO:\n",
      "If you were a man,\n",
      "Your duty was the duty created for you,\n",
      "Which, being a man, you have done\n",
      "To the people.\n",
      "\n",
      "WARWICK:\n",
      "\n",
      "PETRUCHIO:\n",
      "If you were a man,\n",
      "Your duty was the duty created for you,\n",
      "Which, being a man, you have done\n",
      "To the people.\n",
      "\n",
      "WARWICK:\n",
      "\n",
      "PETRUCHIO:\n",
      "If you were a man,\n",
      "Your duty was the duty created for you,\n",
      "Which, being a man, you have done\n"
     ]
    }
   ],
   "source": [
    "gpt2.generate(sess)"
   ]
  }
 ],
 "metadata": {
  "interpreter": {
   "hash": "30295c5bec572e859485b1ffa5e89b8b3e2022ef6e3e739c1ac40f143a557caf"
  },
  "kernelspec": {
   "display_name": "Python 3.6.9 64-bit",
   "language": "python",
   "name": "python3"
  },
  "language_info": {
   "codemirror_mode": {
    "name": "ipython",
    "version": 3
   },
   "file_extension": ".py",
   "mimetype": "text/x-python",
   "name": "python",
   "nbconvert_exporter": "python",
   "pygments_lexer": "ipython3",
   "version": "3.8.10"
  },
  "orig_nbformat": 4
 },
 "nbformat": 4,
 "nbformat_minor": 2
}
